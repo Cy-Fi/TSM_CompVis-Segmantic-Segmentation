{
 "cells": [
  {
   "cell_type": "markdown",
   "metadata": {},
   "source": [
    "1. Create conda env with GPU\n",
    "2. Create data generator with augmentation\n",
    "3. Create simple model\n",
    "4. create advanced model with Bayesian Optimization for Hyperparameter tuning"
   ]
  },
  {
   "cell_type": "code",
   "execution_count": 5,
   "metadata": {},
   "outputs": [],
   "source": [
    "import tensorflow as tf\n",
    "import numpy as np\n",
    "import matplotlib.pyplot as plt\n",
    "import glob\n",
    "%reload_ext autoreload\n",
    "%autoreload 2\n",
    "\n"
   ]
  },
  {
   "cell_type": "code",
   "execution_count": 6,
   "metadata": {},
   "outputs": [
    {
     "name": "stdout",
     "output_type": "stream",
     "text": [
      "Num GPUs Available:  1\n"
     ]
    }
   ],
   "source": [
    "print(\"Num GPUs Available: \", len(tf.config.list_physical_devices('GPU')))\n"
   ]
  },
  {
   "cell_type": "code",
   "execution_count": 7,
   "metadata": {},
   "outputs": [],
   "source": [
    "def display_batch_of_images(batch):\n",
    "  import matplotlib.pyplot as plt\n",
    "\n",
    "  for i in range(len(batch[0])):\n",
    "\n",
    "    image = batch[0][i][:,:,:,0]\n",
    "\n",
    "    # normalize to [0,1]\n",
    "    image =  (image - np.min(image)) / (np.max(image) - np.min(image) + 1e-9)\n",
    "\n",
    "    segmentation = tf.math.argmax(batch[1][i], axis=3) # undo to_categorical\n",
    "\n",
    "    segmentation = tf.cast(segmentation, tf.float32)\n",
    "    segmentation = tf.multiply((255.0 / NUM_CLASSES), segmentation)\n",
    "    segmentation = segmentation / 255.0\n",
    "\n",
    "    plt.figure()\n",
    "\n",
    "    plt.subplot(1, 2, 1)\n",
    "    plt.imshow(image)\n",
    "    plt.title('Image')\n",
    "\n",
    "    plt.subplot(1, 2, 2)\n",
    "    plt.imshow(segmentation, vmin=0, vmax=1)\n",
    "    plt.title('Ground Truth Segmentation')\n",
    "\n",
    "    plt.show()"
   ]
  },
  {
   "cell_type": "code",
   "execution_count": null,
   "metadata": {},
   "outputs": [],
   "source": [
    "import albumentations as A\n",
    "from data_generator import SegmentationDataGenerator\n",
    "\n",
    "BATCH_SIZE = 6\n",
    "NUM_CLASSES = 34\n",
    "IMAGE_SIZE = (256, 256)\n",
    "\n",
    "aug = A.Compose([\n",
    "        A.VerticalFlip(p=0.5),              \n",
    "        A.RandomRotate90(p=0.5),\n",
    "        A.PixelDropout(p=0.01),\n",
    "        A.OneOf([\n",
    "            A.MotionBlur(p=0.2),\n",
    "            A.Blur(p=0.1),\n",
    "        ], p=0.2),\n",
    "        A.ShiftScaleRotate(shift_limit=0.0625, scale_limit=0.2, rotate_limit=20, p=0.2),\n",
    "        A.OpticalDistortion(p=0.3),\n",
    "        A.GridDistortion(p=.1),\n",
    "        A.RandomBrightnessContrast(p=1)\n",
    "    ]\n",
    ")\n",
    "\n",
    "train_data = SegmentationDataGenerator(\n",
    "    image_directory = f\"F:/dev/TSM_CompVis-Segmantic-Segmentation/data/train/train2/*_img_*\",\n",
    "    segmentation_directory = f\"F:/dev/TSM_CompVis-Segmantic-Segmentation/data/train/train2/*_lbl_*\",\n",
    "    num_classes = NUM_CLASSES,\n",
    "    batch_size = BATCH_SIZE,\n",
    "    augmentation = aug\n",
    ")\n",
    "train_data_gen = train_data.get_data_generator()\n",
    "\n",
    "val_data = SegmentationDataGenerator(\n",
    "    image_directory = f\"F:/dev/TSM_CompVis-Segmantic-Segmentation/data/val/*_img_*\",\n",
    "    segmentation_directory = f\"F:/dev/TSM_CompVis-Segmantic-Segmentation/data/val/*_lbl_*\",\n",
    "    num_classes = NUM_CLASSES,\n",
    "    batch_size = BATCH_SIZE,\n",
    "    augmentation = aug\n",
    ")\n",
    "val_data_gen = val_data.get_data_generator()"
   ]
  },
  {
   "cell_type": "code",
   "execution_count": null,
   "metadata": {},
   "outputs": [],
   "source": [
    "batch = train_data_gen.__next__()\n",
    "display_batch_of_images(batch)"
   ]
  },
  {
   "cell_type": "code",
   "execution_count": null,
   "metadata": {},
   "outputs": [],
   "source": [
    "batch = val_data_gen.__next__()\n",
    "display_batch_of_images(batch)"
   ]
  }
 ],
 "metadata": {
  "kernelspec": {
   "display_name": "tensorflow_gpu",
   "language": "python",
   "name": "python3"
  },
  "language_info": {
   "codemirror_mode": {
    "name": "ipython",
    "version": 3
   },
   "file_extension": ".py",
   "mimetype": "text/x-python",
   "name": "python",
   "nbconvert_exporter": "python",
   "pygments_lexer": "ipython3",
   "version": "3.7.16"
  }
 },
 "nbformat": 4,
 "nbformat_minor": 2
}
